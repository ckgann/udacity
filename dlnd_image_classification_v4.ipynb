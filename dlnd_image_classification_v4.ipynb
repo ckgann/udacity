{
 "cells": [
  {
   "cell_type": "markdown",
   "metadata": {
    "collapsed": true
   },
   "source": [
    "# Image Classification\n",
    "In this project, you'll classify images from the [CIFAR-10 dataset](https://www.cs.toronto.edu/~kriz/cifar.html).  The dataset consists of airplanes, dogs, cats, and other objects. You'll preprocess the images, then train a convolutional neural network on all the samples. The images need to be normalized and the labels need to be one-hot encoded.  You'll get to apply what you learned and build a convolutional, max pooling, dropout, and fully connected layers.  At the end, you'll get to see your neural network's predictions on the sample images.\n",
    "## Get the Data\n",
    "Run the following cell to download the [CIFAR-10 dataset for python](https://www.cs.toronto.edu/~kriz/cifar-10-python.tar.gz)."
   ]
  },
  {
   "cell_type": "code",
   "execution_count": null,
   "metadata": {
    "collapsed": false
   },
   "outputs": [],
   "source": [
    "\"\"\"\n",
    "DON'T MODIFY ANYTHING IN THIS CELL THAT IS BELOW THIS LINE\n",
    "\"\"\"\n",
    "from urllib.request import urlretrieve\n",
    "import os\n",
    "from os.path import isfile, isdir\n",
    "from tqdm import tqdm\n",
    "import problem_unittests as tests\n",
    "import tarfile\n",
    "\n",
    "cifar10_dataset_folder_path = 'cifar-10-batches-py'\n",
    "filename = 'cifar-10-python.tar.gz'\n",
    "class DLProgress(tqdm):\n",
    "    last_block = 0\n",
    "\n",
    "    def hook(self, block_num=1, block_size=1, total_size=None):\n",
    "        self.total = total_size\n",
    "        self.update((block_num - self.last_block) * block_size)\n",
    "        self.last_block = block_num\n",
    "        \n",
    "if isfile(filename):\n",
    "    os.remove(filename)\n",
    "\n",
    "with DLProgress(unit='B', unit_scale=True, miniters=1, desc='CIFAR-10 Dataset') as pbar:\n",
    "    urlretrieve(\n",
    "        'https://www.cs.toronto.edu/~kriz/cifar-10-python.tar.gz',\n",
    "        filename,\n",
    "        pbar.hook)"
   ]
  },
  {
   "cell_type": "code",
   "execution_count": null,
   "metadata": {
    "collapsed": false
   },
   "outputs": [],
   "source": [
    "import shutil\n",
    "if isdir(cifar10_dataset_folder_path):\n",
    "    shutil.rmtree(cifar10_dataset_folder_path, ignore_errors=True)\n",
    "\n",
    "with tarfile.open('cifar-10-python.tar.gz') as tar:\n",
    "    tar.extractall()\n",
    "    tar.close()\n",
    "\n",
    "\n",
    "tests.test_folder_path(cifar10_dataset_folder_path)"
   ]
  },
  {
   "cell_type": "markdown",
   "metadata": {},
   "source": [
    "## Explore the Data\n",
    "The dataset is broken into batches to prevent your machine from running out of memory.  The CIFAR-10 dataset consists of 5 batches, named `data_batch_1`, `data_batch_2`, etc.. Each batch contains the labels and images that are one of the following:\n",
    "* airplane\n",
    "* automobile\n",
    "* bird\n",
    "* cat\n",
    "* deer\n",
    "* dog\n",
    "* frog\n",
    "* horse\n",
    "* ship\n",
    "* truck\n",
    "\n",
    "Understanding a dataset is part of making predictions on the data.  Play around with the code cell below by changing the `batch_id` and `sample_id`. The `batch_id` is the id for a batch (1-5). The `sample_id` is the id for a image and label pair in the batch.\n",
    "\n",
    "Ask yourself \"What are all possible labels?\", \"What is the range of values for the image data?\", \"Are the labels in order or random?\".  Answers to questions like these will help you preprocess the data and end up with better predictions."
   ]
  },
  {
   "cell_type": "code",
   "execution_count": null,
   "metadata": {
    "collapsed": false
   },
   "outputs": [],
   "source": [
    "%matplotlib inline\n",
    "%config InlineBackend.figure_format = 'retina'\n",
    "\n",
    "import helper\n",
    "import numpy as np\n",
    "\n",
    "# Explore the dataset\n",
    "batch_id = 2\n",
    "sample_id = 19\n",
    "helper.display_stats(cifar10_dataset_folder_path, batch_id, sample_id)"
   ]
  },
  {
   "cell_type": "markdown",
   "metadata": {},
   "source": [
    "## Implement Preprocess Functions\n",
    "### Normalize\n",
    "In the cell below, implement the `normalize` function to take in image data, `x`, and return it as a normalized Numpy array. The values should be in the range of 0 to 1, inclusive.  The return object should be the same shape as `x`."
   ]
  },
  {
   "cell_type": "code",
   "execution_count": null,
   "metadata": {
    "collapsed": false
   },
   "outputs": [],
   "source": [
    "x = np.array(range(30)).reshape(5,2,3)\n",
    "print(x.shape)\n",
    "x[:,:,0].shape"
   ]
  },
  {
   "cell_type": "code",
   "execution_count": null,
   "metadata": {
    "collapsed": false
   },
   "outputs": [],
   "source": [
    "def normalize(x):\n",
    "    \"\"\"\n",
    "    Normalize a list of sample image data in the range of 0 to 1\n",
    "    : x: List of image data.  The image shape is (32, 32, 3)\n",
    "    : return: Numpy array of normalize data\n",
    "    \"\"\"\n",
    "    # TODO: Implement Function\n",
    "    import numpy as np\n",
    "    from sklearn.preprocessing import MinMaxScaler\n",
    "    min_max_scaler = MinMaxScaler()\n",
    "    \n",
    "    print(\"X Shapre is \",x.shape,\"lenx is\",len(x))\n",
    "    samples = len(x)\n",
    "    X_train = x.reshape(samples,32*32,3)\n",
    "    print(\"X-train is \",X_train.shape,\"lenx is\",len(X_train))\n",
    "    \n",
    "    for dim in [0,1,2]:\n",
    "        cut = X_train[:,:,dim] \n",
    "        print('cut shape',cut.shape)\n",
    "        sslice = min_max_scaler.fit_transform(cut)\n",
    "        sslice.shape\n",
    "        X_train[:,:,dim] = sslice\n",
    "\n",
    "    #X_train = X_train.reshape(samples,32,32,3)\n",
    "    X_train = np.array(X_train.reshape(samples,32,32,3)/255)\n",
    "    #return np.array(() / (255))\n",
    "    #print ((x - np.min(x))/(np.max(x) - np.min(x)))\n",
    "    print (X_train)\n",
    "    return np.array( x/255)\n",
    "\n",
    "\n",
    "\"\"\"\n",
    "DON'T MODIFY ANYTHING IN THIS CELL THAT IS BELOW THIS LINE\n",
    "\"\"\"\n",
    "tests.test_normalize(normalize)"
   ]
  },
  {
   "cell_type": "markdown",
   "metadata": {},
   "source": [
    "### One-hot encode\n",
    "Just like the previous code cell, you'll be implementing a function for preprocessing.  This time, you'll implement the `one_hot_encode` function. The input, `x`, are a list of labels.  Implement the function to return the list of labels as One-Hot encoded Numpy array.  The possible values for labels are 0 to 9. The one-hot encoding function should return the same encoding for each value between each call to `one_hot_encode`.  Make sure to save the map of encodings outside the function.\n",
    "\n",
    "Hint: Don't reinvent the wheel."
   ]
  },
  {
   "cell_type": "code",
   "execution_count": null,
   "metadata": {
    "collapsed": false
   },
   "outputs": [],
   "source": [
    "def one_hot_encode(x):\n",
    "    \"\"\"\n",
    "    One hot encode a list of sample labels. Return a one-hot encoded vector for each label.\n",
    "    : x: List of sample Labels\n",
    "    : return: Numpy array of one-hot encoded labels\n",
    "    \"\"\"\n",
    "    # TODO: Implement Function\n",
    "    import numpy as np\n",
    "\n",
    "    from sklearn import preprocessing\n",
    "    lb = preprocessing.LabelBinarizer()\n",
    "    \n",
    "    x_train = np.array(x)\n",
    "    lb.fit(range(10))\n",
    "    new_enc_labels = lb.transform(x_train)\n",
    "    \n",
    "    print(\"x=\",x,\"binned=\",new_enc_labels, new_enc_labels.shape)\n",
    "    return  np.array(new_enc_labels)\n",
    "\n",
    "\n",
    "\n",
    "\n",
    "\"\"\"\n",
    "DON'T MODIFY ANYTHING IN THIS CELL THAT IS BELOW THIS LINE\n",
    "\"\"\"\n",
    "tests.test_one_hot_encode(one_hot_encode)"
   ]
  },
  {
   "cell_type": "markdown",
   "metadata": {},
   "source": [
    "### Randomize Data\n",
    "As you saw from exploring the data above, the order of the samples are randomized.  It doesn't hurt to randomize it again, but you don't need to for this dataset."
   ]
  },
  {
   "cell_type": "markdown",
   "metadata": {},
   "source": [
    "## Preprocess all the data and save it\n",
    "Running the code cell below will preprocess all the CIFAR-10 data and save it to file. The code below also uses 10% of the training data for validation."
   ]
  },
  {
   "cell_type": "code",
   "execution_count": null,
   "metadata": {
    "collapsed": false
   },
   "outputs": [],
   "source": [
    "\"\"\"\n",
    "DON'T MODIFY ANYTHING IN THIS CELL\n",
    "\"\"\"\n",
    "# Preprocess Training, Validation, and Testing Data\n",
    "helper.preprocess_and_save_data(cifar10_dataset_folder_path, normalize, one_hot_encode)"
   ]
  },
  {
   "cell_type": "markdown",
   "metadata": {},
   "source": [
    "# Check Point\n",
    "This is your first checkpoint.  If you ever decide to come back to this notebook or have to restart the notebook, you can start from here.  The preprocessed data has been saved to disk."
   ]
  },
  {
   "cell_type": "code",
   "execution_count": 1,
   "metadata": {
    "collapsed": true
   },
   "outputs": [],
   "source": [
    "\"\"\"\n",
    "DON'T MODIFY ANYTHING IN THIS CELL\n",
    "\"\"\"\n",
    "import pickle\n",
    "import problem_unittests as tests\n",
    "import helper\n",
    "\n",
    "# Load the Preprocessed Validation data\n",
    "valid_features, valid_labels = pickle.load(open('preprocess_validation.p', mode='rb'))"
   ]
  },
  {
   "cell_type": "markdown",
   "metadata": {},
   "source": [
    "## Build the network\n",
    "For the neural network, you'll build each layer into a function.  Most of the code you've seen has been outside of functions. To test your code more thoroughly, we require that you put each layer in a function.  This allows us to give you better feedback and test for simple mistakes using our unittests before you submit your project.\n",
    "\n",
    ">**Note:** If you're finding it hard to dedicate enough time for this course each week, we've provided a small shortcut to this part of the project. In the next couple of problems, you'll have the option to use classes from the [TensorFlow Layers](https://www.tensorflow.org/api_docs/python/tf/layers) or [TensorFlow Layers (contrib)](https://www.tensorflow.org/api_guides/python/contrib.layers) packages to build each layer, except the layers you build in the \"Convolutional and Max Pooling Layer\" section.  TF Layers is similar to Keras's and TFLearn's abstraction to layers, so it's easy to pickup.\n",
    "\n",
    ">However, if you would like to get the most out of this course, try to solve all the problems _without_ using anything from the TF Layers packages. You **can** still use classes from other packages that happen to have the same name as ones you find in TF Layers! For example, instead of using the TF Layers version of the `conv2d` class, [tf.layers.conv2d](https://www.tensorflow.org/api_docs/python/tf/layers/conv2d), you would want to use the TF Neural Network version of `conv2d`, [tf.nn.conv2d](https://www.tensorflow.org/api_docs/python/tf/nn/conv2d). \n",
    "\n",
    "Let's begin!\n",
    "\n",
    "### Input\n",
    "The neural network needs to read the image data, one-hot encoded labels, and dropout keep probability. Implement the following functions\n",
    "* Implement `neural_net_image_input`\n",
    " * Return a [TF Placeholder](https://www.tensorflow.org/api_docs/python/tf/placeholder)\n",
    " * Set the shape using `image_shape` with batch size set to `None`.\n",
    " * Name the TensorFlow placeholder \"x\" using the TensorFlow `name` parameter in the [TF Placeholder](https://www.tensorflow.org/api_docs/python/tf/placeholder).\n",
    "* Implement `neural_net_label_input`\n",
    " * Return a [TF Placeholder](https://www.tensorflow.org/api_docs/python/tf/placeholder)\n",
    " * Set the shape using `n_classes` with batch size set to `None`.\n",
    " * Name the TensorFlow placeholder \"y\" using the TensorFlow `name` parameter in the [TF Placeholder](https://www.tensorflow.org/api_docs/python/tf/placeholder).\n",
    "* Implement `neural_net_keep_prob_input`\n",
    " * Return a [TF Placeholder](https://www.tensorflow.org/api_docs/python/tf/placeholder) for dropout keep probability.\n",
    " * Name the TensorFlow placeholder \"keep_prob\" using the TensorFlow `name` parameter in the [TF Placeholder](https://www.tensorflow.org/api_docs/python/tf/placeholder).\n",
    "\n",
    "These names will be used at the end of the project to load your saved model.\n",
    "\n",
    "Note: `None` for shapes in TensorFlow allow for a dynamic size."
   ]
  },
  {
   "cell_type": "code",
   "execution_count": 2,
   "metadata": {
    "collapsed": false
   },
   "outputs": [
    {
     "name": "stdout",
     "output_type": "stream",
     "text": [
      "Image Input Tests Passed.\n",
      "Label Input Tests Passed.\n",
      "Keep Prob Tests Passed.\n"
     ]
    }
   ],
   "source": [
    "import tensorflow as tf\n",
    "\n",
    "def neural_net_image_input(image_shape):\n",
    "    \"\"\"\n",
    "    Return a Tensor for a batch of image input\n",
    "    : image_shape: Shape of the images\n",
    "    : return: Tensor for image input.\n",
    "    \"\"\"\n",
    "    # TODO: Implement Function\n",
    "\n",
    "    x = tf.placeholder(tf.float32,[None,image_shape[0], image_shape[1], image_shape[2]], name='x' )\n",
    "    return x\n",
    "    #valid_features, valid_labels\n",
    "\n",
    "#with tf.Session() as sess:\n",
    "#  print(sess.run(y, feed_dict={x: rand_array}))  # Will succeed.\n",
    "#    return None\n",
    "\n",
    "\n",
    "def neural_net_label_input(n_classes):\n",
    "    \"\"\"\n",
    "    Return a Tensor for a batch of label input\n",
    "    : n_classes: Number of classes\n",
    "    : return: Tensor for label input.\n",
    "    \"\"\"\n",
    "    # TODO: Implement Function\n",
    "    \n",
    "    y = tf.placeholder(tf.float32, [None, n_classes],name='y')\n",
    "    return y\n",
    "\n",
    "\n",
    "def neural_net_keep_prob_input():\n",
    "    \"\"\"\n",
    "    Return a Tensor for keep probability\n",
    "    : return: Tensor for keep probability.\n",
    "    \"\"\"\n",
    "    # TODO: Implement Function\n",
    "    keep_prob = tf.placeholder(tf.float32,name='keep_prob')\n",
    "    return keep_prob\n",
    "\n",
    "\n",
    "\"\"\"\n",
    "DON'T MODIFY ANYTHING IN THIS CELL THAT IS BELOW THIS LINE\n",
    "\"\"\"\n",
    "tf.reset_default_graph()\n",
    "tests.test_nn_image_inputs(neural_net_image_input)\n",
    "tests.test_nn_label_inputs(neural_net_label_input)\n",
    "tests.test_nn_keep_prob_inputs(neural_net_keep_prob_input)"
   ]
  },
  {
   "cell_type": "markdown",
   "metadata": {},
   "source": [
    "### Convolution and Max Pooling Layer\n",
    "Convolution layers have a lot of success with images. For this code cell, you should implement the function `conv2d_maxpool` to apply convolution then max pooling:\n",
    "* Create the weight and bias using `conv_ksize`, `conv_num_outputs` and the shape of `x_tensor`.\n",
    "* Apply a convolution to `x_tensor` using weight and `conv_strides`.\n",
    " * We recommend you use same padding, but you're welcome to use any padding.\n",
    "* Add bias\n",
    "* Add a nonlinear activation to the convolution.\n",
    "* Apply Max Pooling using `pool_ksize` and `pool_strides`.\n",
    " * We recommend you use same padding, but you're welcome to use any padding.\n",
    "\n",
    "**Note:** You **can't** use [TensorFlow Layers](https://www.tensorflow.org/api_docs/python/tf/layers) or [TensorFlow Layers (contrib)](https://www.tensorflow.org/api_guides/python/contrib.layers) for **this** layer, but you can still use TensorFlow's [Neural Network](https://www.tensorflow.org/api_docs/python/tf/nn) package. You may still use the shortcut option for all the **other** layers."
   ]
  },
  {
   "cell_type": "code",
   "execution_count": 3,
   "metadata": {
    "collapsed": false
   },
   "outputs": [
    {
     "name": "stdout",
     "output_type": "stream",
     "text": [
      "10 (2, 2) (4, 4) (2, 2) (2, 2)\n",
      "Tests Passed\n"
     ]
    }
   ],
   "source": [
    "def conv2d_maxpool(x_tensor, conv_num_outputs, conv_ksize, conv_strides, pool_ksize, pool_strides):\n",
    "    \"\"\"\n",
    "    Apply convolution then max pooling to x_tensor\n",
    "    :param x_tensor: TensorFlow Tensor\n",
    "    :param conv_num_outputs: Number of outputs for the convolutional layer\n",
    "    :param conv_ksize: kernal size 2-D Tuple for the convolutional layer\n",
    "    :param conv_strides: Stride 2-D Tuple for convolution\n",
    "    :param pool_ksize: kernal size 2-D Tuple for pool\n",
    "    :param pool_strides: Stride 2-D Tuple for pool\n",
    "    : return: A tensor that represents convolution and max pooling of x_tensor\n",
    "    \"\"\"\n",
    "    print(conv_num_outputs, conv_ksize, conv_strides, pool_ksize, pool_strides)\n",
    "    \n",
    "    # TODO: Implement Function\n",
    "    input_depth = x_tensor.get_shape().as_list()[-1]\n",
    "    \n",
    "    weight = tf.Variable(tf.truncated_normal([conv_ksize[0], conv_ksize[1], input_depth, conv_num_outputs],stddev=0.05))\n",
    "    bias = tf.Variable(tf.zeros(conv_num_outputs))\n",
    "    \n",
    "    # Apply Convolution\n",
    "    conv_layer = tf.nn.conv2d(x_tensor, weight, strides=[1, conv_strides[0], conv_strides[1], 1], padding='SAME')\n",
    "    # Add bias\n",
    "    conv_layer = tf.nn.bias_add(conv_layer, bias)\n",
    "\n",
    "    # Apply activation function\n",
    "    conv_layer = tf.nn.relu(conv_layer)\n",
    "    \n",
    "    # Apply Max Pooling\n",
    "    conv_layer = tf.nn.max_pool(\n",
    "        conv_layer,\n",
    "        ksize=[1, pool_ksize[0], pool_ksize[1], 1], strides=[1, pool_strides[0], pool_strides[1], 1],\n",
    "        padding='SAME')\n",
    "    \n",
    "    return conv_layer \n",
    "\n",
    "\n",
    "\"\"\"\n",
    "DON'T MODIFY ANYTHING IN THIS CELL THAT IS BELOW THIS LINE\n",
    "\"\"\"\n",
    "tests.test_con_pool(conv2d_maxpool)"
   ]
  },
  {
   "cell_type": "markdown",
   "metadata": {},
   "source": [
    "### Flatten Layer\n",
    "Implement the `flatten` function to change the dimension of `x_tensor` from a 4-D tensor to a 2-D tensor.  The output should be the shape (*Batch Size*, *Flattened Image Size*). Shortcut option: you can use classes from the [TensorFlow Layers](https://www.tensorflow.org/api_docs/python/tf/layers) or [TensorFlow Layers (contrib)](https://www.tensorflow.org/api_guides/python/contrib.layers) packages for this layer. For more of a challenge, only use other TensorFlow packages."
   ]
  },
  {
   "cell_type": "code",
   "execution_count": 4,
   "metadata": {
    "collapsed": false
   },
   "outputs": [
    {
     "name": "stdout",
     "output_type": "stream",
     "text": [
      "Tests Passed\n"
     ]
    }
   ],
   "source": [
    "def flatten(x_tensor):\n",
    "    \"\"\"\n",
    "    Flatten x_tensor to (Batch Size, Flattened Image Size)\n",
    "    : x_tensor: A tensor of size (Batch Size, ...), where ... are the image dimensions.\n",
    "    : return: A tensor of size (Batch Size, Flattened Image Size).\n",
    "    \"\"\"\n",
    "    # TODO: Implement Function\n",
    "    tshape = x_tensor.get_shape().as_list()\n",
    "    \n",
    "    \n",
    "    flat = tf.reshape(x_tensor,[-1,tshape[1]*tshape[2]*tshape[3]])\n",
    "    return flat\n",
    "\n",
    "\n",
    "\"\"\"\n",
    "DON'T MODIFY ANYTHING IN THIS CELL THAT IS BELOW THIS LINE\n",
    "\"\"\"\n",
    "tests.test_flatten(flatten)"
   ]
  },
  {
   "cell_type": "markdown",
   "metadata": {},
   "source": [
    "### Fully-Connected Layer\n",
    "Implement the `fully_conn` function to apply a fully connected layer to `x_tensor` with the shape (*Batch Size*, *num_outputs*). Shortcut option: you can use classes from the [TensorFlow Layers](https://www.tensorflow.org/api_docs/python/tf/layers) or [TensorFlow Layers (contrib)](https://www.tensorflow.org/api_guides/python/contrib.layers) packages for this layer. For more of a challenge, only use other TensorFlow packages."
   ]
  },
  {
   "cell_type": "code",
   "execution_count": 5,
   "metadata": {
    "collapsed": false
   },
   "outputs": [
    {
     "name": "stdout",
     "output_type": "stream",
     "text": [
      "Tests Passed\n"
     ]
    }
   ],
   "source": [
    "def fully_conn(x_tensor, num_outputs):\n",
    "    \"\"\"\n",
    "    Apply a fully connected layer to x_tensor using weight and bias\n",
    "    : x_tensor: A 2-D tensor where the first dimension is batch size.\n",
    "    : num_outputs: The number of output that the new tensor should be.\n",
    "    : return: A 2-D tensor where the second dimension is num_outputs.\n",
    "    \"\"\"\n",
    "    # TODO: Implement Function\n",
    "   \n",
    "    \n",
    "    #tensor_out = tf.layers.dense(x_tensor,num_outputs,use_bias=True)\n",
    "    #tensor_out = tf.contrib.layers.fully_connected(inputs=x_tensor, num_outputs=num_outputs)\n",
    "    tshape = x_tensor.get_shape().as_list()\n",
    "    W = tf.Variable(tf.truncated_normal([tshape[1],num_outputs],mean=0.0,stddev=0.08))\n",
    "    b = tf.Variable(tf.zeros([num_outputs]))\n",
    "    tensor_out = tf.add(tf.matmul(x_tensor,W),b)\n",
    "    tensor_out = tf.nn.relu(tensor_out)\n",
    "    return tensor_out\n",
    "\n",
    "\n",
    "\n",
    "\n",
    "\n",
    "\n",
    "\"\"\"\n",
    "DON'T MODIFY ANYTHING IN THIS CELL THAT IS BELOW THIS LINE\n",
    "\"\"\"\n",
    "tests.test_fully_conn(fully_conn)"
   ]
  },
  {
   "cell_type": "markdown",
   "metadata": {},
   "source": [
    "### Output Layer\n",
    "Implement the `output` function to apply a fully connected layer to `x_tensor` with the shape (*Batch Size*, *num_outputs*). Shortcut option: you can use classes from the [TensorFlow Layers](https://www.tensorflow.org/api_docs/python/tf/layers) or [TensorFlow Layers (contrib)](https://www.tensorflow.org/api_guides/python/contrib.layers) packages for this layer. For more of a challenge, only use other TensorFlow packages.\n",
    "\n",
    "**Note:** Activation, softmax, or cross entropy should **not** be applied to this."
   ]
  },
  {
   "cell_type": "code",
   "execution_count": 6,
   "metadata": {
    "collapsed": false
   },
   "outputs": [
    {
     "name": "stdout",
     "output_type": "stream",
     "text": [
      "Tests Passed\n"
     ]
    }
   ],
   "source": [
    "def output(x_tensor, num_outputs):\n",
    "    \"\"\"\n",
    "    Apply a output layer to x_tensor using weight and bias\n",
    "    : x_tensor: A 2-D tensor where the first dimension is batch size.\n",
    "    : num_outputs: The number of output that the new tensor should be.\n",
    "    : return: A 2-D tensor where the second dimension is num_outputs.\n",
    "    \"\"\"\n",
    "    # TODO: Implement Function\n",
    "    #tensor_out = tf.layers.dense(x_tensor,num_outputs)\n",
    "    tshape = x_tensor.get_shape().as_list()\n",
    "    W = tf.Variable(tf.truncated_normal([tshape[1],num_outputs],mean=0.0,stddev=0.08))\n",
    "    b = tf.Variable(tf.zeros([num_outputs]))\n",
    "    tensor_out = tf.add(tf.matmul(x_tensor,W),b)\n",
    "    \n",
    "    \n",
    "    \n",
    "    return tensor_out\n",
    "\n",
    "\n",
    "\"\"\"\n",
    "DON'T MODIFY ANYTHING IN THIS CELL THAT IS BELOW THIS LINE\n",
    "\"\"\"\n",
    "tests.test_output(output)"
   ]
  },
  {
   "cell_type": "markdown",
   "metadata": {},
   "source": [
    "### Create Convolutional Model\n",
    "Implement the function `conv_net` to create a convolutional neural network model. The function takes in a batch of images, `x`, and outputs logits.  Use the layers you created above to create this model:\n",
    "\n",
    "* Apply 1, 2, or 3 Convolution and Max Pool layers\n",
    "* Apply a Flatten Layer\n",
    "* Apply 1, 2, or 3 Fully Connected Layers\n",
    "* Apply an Output Layer\n",
    "* Return the output\n",
    "* Apply [TensorFlow's Dropout](https://www.tensorflow.org/api_docs/python/tf/nn/dropout) to one or more layers in the model using `keep_prob`. "
   ]
  },
  {
   "cell_type": "code",
   "execution_count": 7,
   "metadata": {
    "collapsed": false,
    "scrolled": true
   },
   "outputs": [
    {
     "name": "stdout",
     "output_type": "stream",
     "text": [
      "16 (5, 5) (1, 1) (2, 2) (2, 2)\n",
      "16 (5, 5) (1, 1) (2, 2) (2, 2)\n",
      "Neural Network Built!\n"
     ]
    }
   ],
   "source": [
    "def conv_net(x, keep_prob):\n",
    "    \"\"\"\n",
    "    Create a convolutional neural network model\n",
    "    : x: Placeholder tensor that holds image data.\n",
    "    : keep_prob: Placeholder tensor that hold dropout keep probability.\n",
    "    : return: Tensor that represents logits\n",
    "    \"\"\"\n",
    "    # TODO: Apply 1, 2, or 3 Convolution and Max Pool layers\n",
    "    #    Play around with different number of outputs, kernel size and stride\n",
    "    # Function Definition from Above:\n",
    "    #    conv2d_maxpool(x_tensor, conv_num_outputs, conv_ksize, conv_strides, pool_ksize, pool_strides)\n",
    "    #10 (2, 2) (4, 4) (2, 2) (2, 2)\n",
    "    conv_num_outputs = 10\n",
    "    conv_ksize = (5,5)\n",
    "    conv_strides =(1,1)\n",
    "    pool_ksize = (2,2)\n",
    "    pool_strides = (2,2)\n",
    "    \n",
    "    conv = conv2d_maxpool(x, 16, conv_ksize, conv_strides, pool_ksize, pool_strides)\n",
    "    #conv = conv2d_maxpool(conv, conv_num_outputs, conv_ksize, conv_strides, pool_ksize, pool_strides)\n",
    "\n",
    "\n",
    "    # TODO: Apply a Flatten Layer\n",
    "    # Function Definition from Above:\n",
    "    #   flatten(x_tensor)\n",
    "    \n",
    "    conv = flatten(conv)\n",
    "    \n",
    "\n",
    "    # TODO: Apply 1, 2, or 3 Fully Connected Layers\n",
    "    #    Play around with different number of outputs\n",
    "    # Function Definition from Above:\n",
    "    #   fully_conn(x_tensor, num_outputs)\n",
    "    \n",
    "    conv = fully_conn(conv,100)\n",
    "    #conv = tf.nn.dropout(conv,keep_prob)\n",
    "    #conv = fully_conn(conv,512)\n",
    "    ####conv = tf.nn.dropout(conv,keep_prob)\n",
    "    #conv = fully_conn(conv,75)\n",
    "    \n",
    "    \n",
    "    # TODO: Apply an Output Layer\n",
    "    #    Set this to the number of classes\n",
    "    # Function Definition from Above:\n",
    "    #   output(x_tensor, num_outputs)\n",
    "    \n",
    "    conv = output(conv, conv_num_outputs)\n",
    "    \n",
    "    \n",
    "    # TODO: return output\n",
    "    return conv\n",
    "\n",
    "\n",
    "\"\"\"\n",
    "DON'T MODIFY ANYTHING IN THIS CELL THAT IS BELOW THIS LINE\n",
    "\"\"\"\n",
    "\n",
    "##############################\n",
    "## Build the Neural Network ##\n",
    "##############################\n",
    "\n",
    "# Remove previous weights, bias, inputs, etc..\n",
    "tf.reset_default_graph()\n",
    "\n",
    "# Inputs\n",
    "x = neural_net_image_input((32, 32, 3))\n",
    "y = neural_net_label_input(10)\n",
    "keep_prob = neural_net_keep_prob_input()\n",
    "\n",
    "# Model\n",
    "logits = conv_net(x, keep_prob)\n",
    "\n",
    "# Name logits Tensor, so that is can be loaded from disk after training\n",
    "logits = tf.identity(logits, name='logits')\n",
    "\n",
    "# Loss and Optimizer\n",
    "cost = tf.reduce_mean(tf.nn.softmax_cross_entropy_with_logits(logits=logits, labels=y))\n",
    "optimizer = tf.train.AdamOptimizer().minimize(cost)\n",
    "\n",
    "# Accuracy\n",
    "correct_pred = tf.equal(tf.argmax(logits, 1), tf.argmax(y, 1))\n",
    "accuracy = tf.reduce_mean(tf.cast(correct_pred, tf.float32), name='accuracy')\n",
    "\n",
    "tests.test_conv_net(conv_net)"
   ]
  },
  {
   "cell_type": "markdown",
   "metadata": {},
   "source": [
    "## Train the Neural Network\n",
    "### Single Optimization\n",
    "Implement the function `train_neural_network` to do a single optimization.  The optimization should use `optimizer` to optimize in `session` with a `feed_dict` of the following:\n",
    "* `x` for image input\n",
    "* `y` for labels\n",
    "* `keep_prob` for keep probability for dropout\n",
    "\n",
    "This function will be called for each batch, so `tf.global_variables_initializer()` has already been called.\n",
    "\n",
    "Note: Nothing needs to be returned. This function is only optimizing the neural network."
   ]
  },
  {
   "cell_type": "code",
   "execution_count": 8,
   "metadata": {
    "collapsed": false
   },
   "outputs": [
    {
     "name": "stdout",
     "output_type": "stream",
     "text": [
      "Tests Passed\n"
     ]
    }
   ],
   "source": [
    "def train_neural_network(session, optimizer, keep_probability, feature_batch, label_batch):\n",
    "    \"\"\"\n",
    "    Optimize the session on a batch of images and labels\n",
    "    : session: Current TensorFlow session\n",
    "    : optimizer: TensorFlow optimizer function\n",
    "    : keep_probability: keep probability\n",
    "    : feature_batch: Batch of Numpy image data\n",
    "    : label_batch: Batch of Numpy label data\n",
    "    \"\"\"\n",
    "    # TODO: Implement Function\n",
    "    session.run(optimizer,feed_dict={x: feature_batch, y: label_batch, keep_prob: keep_probability})\n",
    "    #pass\n",
    "\n",
    "\n",
    "\"\"\"\n",
    "DON'T MODIFY ANYTHING IN THIS CELL THAT IS BELOW THIS LINE\n",
    "\"\"\"\n",
    "tests.test_train_nn(train_neural_network)"
   ]
  },
  {
   "cell_type": "markdown",
   "metadata": {},
   "source": [
    "### Show Stats\n",
    "Implement the function `print_stats` to print loss and validation accuracy.  Use the global variables `valid_features` and `valid_labels` to calculate validation accuracy.  Use a keep probability of `1.0` to calculate the loss and validation accuracy."
   ]
  },
  {
   "cell_type": "code",
   "execution_count": 9,
   "metadata": {
    "collapsed": false
   },
   "outputs": [],
   "source": [
    "def print_stats(session, feature_batch, label_batch, cost, accuracy):\n",
    "    \"\"\"\n",
    "    Print information about loss and validation accuracy\n",
    "    : session: Current TensorFlow session\n",
    "    : feature_batch: Batch of Numpy image data\n",
    "    : label_batch: Batch of Numpy label data\n",
    "    : cost: TensorFlow cost function\n",
    "    : accuracy: TensorFlow accuracy function\n",
    "    \"\"\"\n",
    "    # TODO: Implement Function\n",
    "\n",
    "    global valid_features , valid_labels\n",
    "    nn_acc = session.run(accuracy, feed_dict={x: valid_features, y: valid_labels, keep_prob: 1.0,})\n",
    "    loss = session.run(cost,feed_dict={x: feature_batch, y: label_batch, keep_prob: 1.0,})\n",
    "    print('Accuracy = {0} and Loss Function = {1}'.format(nn_acc, loss))\n",
    "\n",
    "    \n",
    "    #pass"
   ]
  },
  {
   "cell_type": "markdown",
   "metadata": {},
   "source": [
    "### Hyperparameters\n",
    "Tune the following parameters:\n",
    "* Set `epochs` to the number of iterations until the network stops learning or start overfitting\n",
    "* Set `batch_size` to the highest number that your machine has memory for.  Most people set them to common sizes of memory:\n",
    " * 64\n",
    " * 128\n",
    " * 256\n",
    " * ...\n",
    "* Set `keep_probability` to the probability of keeping a node using dropout"
   ]
  },
  {
   "cell_type": "code",
   "execution_count": 10,
   "metadata": {
    "collapsed": true
   },
   "outputs": [],
   "source": [
    "# TODO: Tune Parameters\n",
    "epochs = 20\n",
    "batch_size = 256\n",
    "keep_probability = .75"
   ]
  },
  {
   "cell_type": "markdown",
   "metadata": {},
   "source": [
    "### Train on a Single CIFAR-10 Batch\n",
    "Instead of training the neural network on all the CIFAR-10 batches of data, let's use a single batch. This should save time while you iterate on the model to get a better accuracy.  Once the final validation accuracy is 50% or greater, run the model on all the data in the next section."
   ]
  },
  {
   "cell_type": "code",
   "execution_count": 11,
   "metadata": {
    "collapsed": false
   },
   "outputs": [
    {
     "name": "stdout",
     "output_type": "stream",
     "text": [
      "Checking the Training on a Single Batch...\n",
      "Epoch  1, CIFAR-10 Batch 1:  Accuracy = 0.10559999942779541 and Loss Function = 2.303074359893799\n",
      "Epoch  2, CIFAR-10 Batch 1:  Accuracy = 0.10080000013113022 and Loss Function = 2.3036584854125977\n",
      "Epoch  3, CIFAR-10 Batch 1:  Accuracy = 0.121799997985363 and Loss Function = 2.3005852699279785\n",
      "Epoch  4, CIFAR-10 Batch 1:  Accuracy = 0.11320000141859055 and Loss Function = 2.2828497886657715\n",
      "Epoch  5, CIFAR-10 Batch 1:  Accuracy = 0.12319999933242798 and Loss Function = 2.253657579421997\n",
      "Epoch  6, CIFAR-10 Batch 1:  Accuracy = 0.12399999797344208 and Loss Function = 2.2252328395843506\n",
      "Epoch  7, CIFAR-10 Batch 1:  Accuracy = 0.13019999861717224 and Loss Function = 2.2032675743103027\n",
      "Epoch  8, CIFAR-10 Batch 1:  Accuracy = 0.13079999387264252 and Loss Function = 2.1875557899475098\n",
      "Epoch  9, CIFAR-10 Batch 1:  Accuracy = 0.13199999928474426 and Loss Function = 2.1710281372070312\n",
      "Epoch 10, CIFAR-10 Batch 1:  Accuracy = 0.13259999454021454 and Loss Function = 2.157421112060547\n",
      "Epoch 11, CIFAR-10 Batch 1:  Accuracy = 0.13359999656677246 and Loss Function = 2.1444790363311768\n",
      "Epoch 12, CIFAR-10 Batch 1:  Accuracy = 0.13740000128746033 and Loss Function = 2.1315224170684814\n",
      "Epoch 13, CIFAR-10 Batch 1:  Accuracy = 0.1371999979019165 and Loss Function = 2.120269298553467\n",
      "Epoch 14, CIFAR-10 Batch 1:  Accuracy = 0.13740000128746033 and Loss Function = 2.105768918991089\n",
      "Epoch 15, CIFAR-10 Batch 1:  Accuracy = 0.1356000006198883 and Loss Function = 2.0977654457092285\n",
      "Epoch 16, CIFAR-10 Batch 1:  Accuracy = 0.13840000331401825 and Loss Function = 2.0838913917541504\n",
      "Epoch 17, CIFAR-10 Batch 1:  Accuracy = 0.14079999923706055 and Loss Function = 2.071547508239746\n",
      "Epoch 18, CIFAR-10 Batch 1:  Accuracy = 0.14159999787807465 and Loss Function = 2.0615170001983643\n",
      "Epoch 19, CIFAR-10 Batch 1:  Accuracy = 0.14059999585151672 and Loss Function = 2.044529676437378\n",
      "Epoch 20, CIFAR-10 Batch 1:  Accuracy = 0.1451999992132187 and Loss Function = 2.034755229949951\n"
     ]
    }
   ],
   "source": [
    "\"\"\"\n",
    "DON'T MODIFY ANYTHING IN THIS CELL\n",
    "\"\"\"\n",
    "print('Checking the Training on a Single Batch...')\n",
    "with tf.Session() as sess:\n",
    "    # Initializing the variables\n",
    "    sess.run(tf.global_variables_initializer())\n",
    "    \n",
    "    # Training cycle\n",
    "    for epoch in range(epochs):\n",
    "        batch_i = 1\n",
    "        for batch_features, batch_labels in helper.load_preprocess_training_batch(batch_i, batch_size):\n",
    "            train_neural_network(sess, optimizer, keep_probability, batch_features, batch_labels)\n",
    "        print('Epoch {:>2}, CIFAR-10 Batch {}:  '.format(epoch + 1, batch_i), end='')\n",
    "        print_stats(sess, batch_features, batch_labels, cost, accuracy)"
   ]
  },
  {
   "cell_type": "markdown",
   "metadata": {},
   "source": [
    "### Fully Train the Model\n",
    "Now that you got a good accuracy with a single CIFAR-10 batch, try it with all five batches."
   ]
  },
  {
   "cell_type": "code",
   "execution_count": 12,
   "metadata": {
    "collapsed": false
   },
   "outputs": [
    {
     "name": "stdout",
     "output_type": "stream",
     "text": [
      "Training...\n",
      "Epoch  1, CIFAR-10 Batch 1:  Accuracy = 0.1005999967455864 and Loss Function = 2.30318021774292\n",
      "Epoch  1, CIFAR-10 Batch 2:  Accuracy = 0.10939999669790268 and Loss Function = 2.3040122985839844\n",
      "Epoch  1, CIFAR-10 Batch 3:  Accuracy = 0.1136000007390976 and Loss Function = 2.294598340988159\n",
      "Epoch  1, CIFAR-10 Batch 4:  Accuracy = 0.11800000071525574 and Loss Function = 2.2926230430603027\n",
      "Epoch  1, CIFAR-10 Batch 5:  Accuracy = 0.12280000001192093 and Loss Function = 2.341423749923706\n",
      "Epoch  2, CIFAR-10 Batch 1:  Accuracy = 0.12359999865293503 and Loss Function = 2.2627100944519043\n",
      "Epoch  2, CIFAR-10 Batch 2:  Accuracy = 0.12479999661445618 and Loss Function = 2.353195905685425\n",
      "Epoch  2, CIFAR-10 Batch 3:  Accuracy = 0.12559999525547028 and Loss Function = 2.226691961288452\n",
      "Epoch  2, CIFAR-10 Batch 4:  Accuracy = 0.12319999933242798 and Loss Function = 2.2582695484161377\n",
      "Epoch  2, CIFAR-10 Batch 5:  Accuracy = 0.12039999663829803 and Loss Function = 2.3558621406555176\n",
      "Epoch  3, CIFAR-10 Batch 1:  Accuracy = 0.12759999930858612 and Loss Function = 2.236767530441284\n",
      "Epoch  3, CIFAR-10 Batch 2:  Accuracy = 0.12639999389648438 and Loss Function = 2.335545778274536\n",
      "Epoch  3, CIFAR-10 Batch 3:  Accuracy = 0.12559999525547028 and Loss Function = 2.207454204559326\n",
      "Epoch  3, CIFAR-10 Batch 4:  Accuracy = 0.12300000339746475 and Loss Function = 2.2498221397399902\n",
      "Epoch  3, CIFAR-10 Batch 5:  Accuracy = 0.12439999729394913 and Loss Function = 2.3431289196014404\n",
      "Epoch  4, CIFAR-10 Batch 1:  Accuracy = 0.1324000060558319 and Loss Function = 2.218409299850464\n",
      "Epoch  4, CIFAR-10 Batch 2:  Accuracy = 0.13279999792575836 and Loss Function = 2.3126864433288574\n",
      "Epoch  4, CIFAR-10 Batch 3:  Accuracy = 0.147599995136261 and Loss Function = 2.1894888877868652\n",
      "Epoch  4, CIFAR-10 Batch 4:  Accuracy = 0.12520000338554382 and Loss Function = 2.24135422706604\n",
      "Epoch  4, CIFAR-10 Batch 5:  Accuracy = 0.12880000472068787 and Loss Function = 2.3196194171905518\n",
      "Epoch  5, CIFAR-10 Batch 1:  Accuracy = 0.13740000128746033 and Loss Function = 2.203758478164673\n",
      "Epoch  5, CIFAR-10 Batch 2:  Accuracy = 0.14020000398159027 and Loss Function = 2.2938897609710693\n",
      "Epoch  5, CIFAR-10 Batch 3:  Accuracy = 0.14740000665187836 and Loss Function = 2.17673921585083\n",
      "Epoch  5, CIFAR-10 Batch 4:  Accuracy = 0.14740000665187836 and Loss Function = 2.230853319168091\n",
      "Epoch  5, CIFAR-10 Batch 5:  Accuracy = 0.133200004696846 and Loss Function = 2.2875730991363525\n",
      "Epoch  6, CIFAR-10 Batch 1:  Accuracy = 0.1454000025987625 and Loss Function = 2.190082311630249\n",
      "Epoch  6, CIFAR-10 Batch 2:  Accuracy = 0.14980000257492065 and Loss Function = 2.270742416381836\n",
      "Epoch  6, CIFAR-10 Batch 3:  Accuracy = 0.15600000321865082 and Loss Function = 2.1700587272644043\n",
      "Epoch  6, CIFAR-10 Batch 4:  Accuracy = 0.1501999944448471 and Loss Function = 2.2224643230438232\n",
      "Epoch  6, CIFAR-10 Batch 5:  Accuracy = 0.13580000400543213 and Loss Function = 2.263427734375\n",
      "Epoch  7, CIFAR-10 Batch 1:  Accuracy = 0.14980000257492065 and Loss Function = 2.179506301879883\n",
      "Epoch  7, CIFAR-10 Batch 2:  Accuracy = 0.15139999985694885 and Loss Function = 2.258218288421631\n",
      "Epoch  7, CIFAR-10 Batch 3:  Accuracy = 0.15839999914169312 and Loss Function = 2.1617472171783447\n",
      "Epoch  7, CIFAR-10 Batch 4:  Accuracy = 0.1526000052690506 and Loss Function = 2.2176413536071777\n",
      "Epoch  7, CIFAR-10 Batch 5:  Accuracy = 0.1387999951839447 and Loss Function = 2.241896152496338\n",
      "Epoch  8, CIFAR-10 Batch 1:  Accuracy = 0.14959999918937683 and Loss Function = 2.1600775718688965\n",
      "Epoch  8, CIFAR-10 Batch 2:  Accuracy = 0.15279999375343323 and Loss Function = 2.2421224117279053\n",
      "Epoch  8, CIFAR-10 Batch 3:  Accuracy = 0.15919999778270721 and Loss Function = 2.157015323638916\n",
      "Epoch  8, CIFAR-10 Batch 4:  Accuracy = 0.15719999372959137 and Loss Function = 2.2167694568634033\n",
      "Epoch  8, CIFAR-10 Batch 5:  Accuracy = 0.15559999644756317 and Loss Function = 2.2235400676727295\n",
      "Epoch  9, CIFAR-10 Batch 1:  Accuracy = 0.15080000460147858 and Loss Function = 2.148650646209717\n",
      "Epoch  9, CIFAR-10 Batch 2:  Accuracy = 0.16040000319480896 and Loss Function = 2.23067045211792\n",
      "Epoch  9, CIFAR-10 Batch 3:  Accuracy = 0.15839999914169312 and Loss Function = 2.1508607864379883\n",
      "Epoch  9, CIFAR-10 Batch 4:  Accuracy = 0.15839999914169312 and Loss Function = 2.2161383628845215\n",
      "Epoch  9, CIFAR-10 Batch 5:  Accuracy = 0.1565999984741211 and Loss Function = 2.206054210662842\n",
      "Epoch 10, CIFAR-10 Batch 1:  Accuracy = 0.16220000386238098 and Loss Function = 2.127572774887085\n",
      "Epoch 10, CIFAR-10 Batch 2:  Accuracy = 0.16259999573230743 and Loss Function = 2.2207863330841064\n",
      "Epoch 10, CIFAR-10 Batch 3:  Accuracy = 0.16279999911785126 and Loss Function = 2.1480636596679688\n",
      "Epoch 10, CIFAR-10 Batch 4:  Accuracy = 0.15760000050067902 and Loss Function = 2.212843894958496\n",
      "Epoch 10, CIFAR-10 Batch 5:  Accuracy = 0.16040000319480896 and Loss Function = 2.1970314979553223\n",
      "Epoch 11, CIFAR-10 Batch 1:  Accuracy = 0.16359999775886536 and Loss Function = 2.111419200897217\n",
      "Epoch 11, CIFAR-10 Batch 2:  Accuracy = 0.15880000591278076 and Loss Function = 2.2168731689453125\n",
      "Epoch 11, CIFAR-10 Batch 3:  Accuracy = 0.16459999978542328 and Loss Function = 2.1384780406951904\n",
      "Epoch 11, CIFAR-10 Batch 4:  Accuracy = 0.16179999709129333 and Loss Function = 2.210355043411255\n",
      "Epoch 11, CIFAR-10 Batch 5:  Accuracy = 0.14300000667572021 and Loss Function = 2.1778290271759033\n",
      "Epoch 12, CIFAR-10 Batch 1:  Accuracy = 0.16120000183582306 and Loss Function = 2.0999934673309326\n",
      "Epoch 12, CIFAR-10 Batch 2:  Accuracy = 0.16439999639987946 and Loss Function = 2.2067713737487793\n",
      "Epoch 12, CIFAR-10 Batch 3:  Accuracy = 0.16419999301433563 and Loss Function = 2.134761333465576\n",
      "Epoch 12, CIFAR-10 Batch 4:  Accuracy = 0.16580000519752502 and Loss Function = 2.2072579860687256\n",
      "Epoch 12, CIFAR-10 Batch 5:  Accuracy = 0.14480000734329224 and Loss Function = 2.1753897666931152\n",
      "Epoch 13, CIFAR-10 Batch 1:  Accuracy = 0.16439999639987946 and Loss Function = 2.078477382659912\n",
      "Epoch 13, CIFAR-10 Batch 2:  Accuracy = 0.16419999301433563 and Loss Function = 2.2005436420440674\n",
      "Epoch 13, CIFAR-10 Batch 3:  Accuracy = 0.16459999978542328 and Loss Function = 2.1275248527526855\n",
      "Epoch 13, CIFAR-10 Batch 4:  Accuracy = 0.16179999709129333 and Loss Function = 2.1984314918518066\n",
      "Epoch 13, CIFAR-10 Batch 5:  Accuracy = 0.16140000522136688 and Loss Function = 2.1739115715026855\n",
      "Epoch 14, CIFAR-10 Batch 1:  Accuracy = 0.1624000072479248 and Loss Function = 2.065851926803589\n",
      "Epoch 14, CIFAR-10 Batch 2:  Accuracy = 0.1664000004529953 and Loss Function = 2.1949386596679688\n",
      "Epoch 14, CIFAR-10 Batch 3:  Accuracy = 0.16439999639987946 and Loss Function = 2.1230554580688477\n",
      "Epoch 14, CIFAR-10 Batch 4:  Accuracy = 0.16200000047683716 and Loss Function = 2.1929030418395996\n",
      "Epoch 14, CIFAR-10 Batch 5:  Accuracy = 0.14579999446868896 and Loss Function = 2.1615042686462402\n",
      "Epoch 15, CIFAR-10 Batch 1:  Accuracy = 0.16419999301433563 and Loss Function = 2.0457041263580322\n",
      "Epoch 15, CIFAR-10 Batch 2:  Accuracy = 0.16500000655651093 and Loss Function = 2.177720785140991\n",
      "Epoch 15, CIFAR-10 Batch 3:  Accuracy = 0.16619999706745148 and Loss Function = 2.110330104827881\n",
      "Epoch 15, CIFAR-10 Batch 4:  Accuracy = 0.16259999573230743 and Loss Function = 2.184908390045166\n",
      "Epoch 15, CIFAR-10 Batch 5:  Accuracy = 0.16380000114440918 and Loss Function = 2.1660921573638916\n",
      "Epoch 16, CIFAR-10 Batch 1:  Accuracy = 0.16279999911785126 and Loss Function = 2.036006450653076\n",
      "Epoch 16, CIFAR-10 Batch 2:  Accuracy = 0.16660000383853912 and Loss Function = 2.185985565185547\n",
      "Epoch 16, CIFAR-10 Batch 3:  Accuracy = 0.16660000383853912 and Loss Function = 2.1115665435791016\n",
      "Epoch 16, CIFAR-10 Batch 4:  Accuracy = 0.16300000250339508 and Loss Function = 2.187317371368408\n",
      "Epoch 16, CIFAR-10 Batch 5:  Accuracy = 0.16259999573230743 and Loss Function = 2.1550440788269043\n",
      "Epoch 17, CIFAR-10 Batch 1:  Accuracy = 0.16619999706745148 and Loss Function = 2.0086846351623535\n",
      "Epoch 17, CIFAR-10 Batch 2:  Accuracy = 0.16680000722408295 and Loss Function = 2.173797369003296\n",
      "Epoch 17, CIFAR-10 Batch 3:  Accuracy = 0.16419999301433563 and Loss Function = 2.1061270236968994\n",
      "Epoch 17, CIFAR-10 Batch 4:  Accuracy = 0.16439999639987946 and Loss Function = 2.1813557147979736\n",
      "Epoch 17, CIFAR-10 Batch 5:  Accuracy = 0.16099999845027924 and Loss Function = 2.1495754718780518\n",
      "Epoch 18, CIFAR-10 Batch 1:  Accuracy = 0.16459999978542328 and Loss Function = 2.001061201095581\n",
      "Epoch 18, CIFAR-10 Batch 2:  Accuracy = 0.16699999570846558 and Loss Function = 2.1707401275634766\n",
      "Epoch 18, CIFAR-10 Batch 3:  Accuracy = 0.16439999639987946 and Loss Function = 2.1038241386413574\n",
      "Epoch 18, CIFAR-10 Batch 4:  Accuracy = 0.1671999990940094 and Loss Function = 2.1787519454956055\n",
      "Epoch 18, CIFAR-10 Batch 5:  Accuracy = 0.14560000598430634 and Loss Function = 2.1414151191711426\n",
      "Epoch 19, CIFAR-10 Batch 1:  Accuracy = 0.1671999990940094 and Loss Function = 1.9798953533172607\n",
      "Epoch 19, CIFAR-10 Batch 2:  Accuracy = 0.16740000247955322 and Loss Function = 2.164252519607544\n",
      "Epoch 19, CIFAR-10 Batch 3:  Accuracy = 0.16279999911785126 and Loss Function = 2.101487159729004\n",
      "Epoch 19, CIFAR-10 Batch 4:  Accuracy = 0.1624000072479248 and Loss Function = 2.172328472137451\n",
      "Epoch 19, CIFAR-10 Batch 5:  Accuracy = 0.16140000522136688 and Loss Function = 2.1423537731170654\n",
      "Epoch 20, CIFAR-10 Batch 1:  Accuracy = 0.16699999570846558 and Loss Function = 1.9614521265029907\n",
      "Epoch 20, CIFAR-10 Batch 2:  Accuracy = 0.16599999368190765 and Loss Function = 2.163574695587158\n",
      "Epoch 20, CIFAR-10 Batch 3:  Accuracy = 0.16459999978542328 and Loss Function = 2.0943443775177\n",
      "Epoch 20, CIFAR-10 Batch 4:  Accuracy = 0.16339999437332153 and Loss Function = 2.166210651397705\n",
      "Epoch 20, CIFAR-10 Batch 5:  Accuracy = 0.1615999937057495 and Loss Function = 2.136481761932373\n"
     ]
    }
   ],
   "source": [
    "\"\"\"\n",
    "DON'T MODIFY ANYTHING IN THIS CELL\n",
    "\"\"\"\n",
    "save_model_path = './image_classification'\n",
    "\n",
    "print('Training...')\n",
    "with tf.Session() as sess:\n",
    "    # Initializing the variables\n",
    "    sess.run(tf.global_variables_initializer())\n",
    "    \n",
    "    # Training cycle\n",
    "    for epoch in range(epochs):\n",
    "        # Loop over all batches\n",
    "        n_batches = 5\n",
    "        for batch_i in range(1, n_batches + 1):\n",
    "            for batch_features, batch_labels in helper.load_preprocess_training_batch(batch_i, batch_size):\n",
    "                train_neural_network(sess, optimizer, keep_probability, batch_features, batch_labels)\n",
    "            print('Epoch {:>2}, CIFAR-10 Batch {}:  '.format(epoch + 1, batch_i), end='')\n",
    "            print_stats(sess, batch_features, batch_labels, cost, accuracy)\n",
    "            \n",
    "    # Save Model\n",
    "    saver = tf.train.Saver()\n",
    "    save_path = saver.save(sess, save_model_path)"
   ]
  },
  {
   "cell_type": "markdown",
   "metadata": {},
   "source": [
    "# Checkpoint\n",
    "The model has been saved to disk.\n",
    "## Test Model\n",
    "Test your model against the test dataset.  This will be your final accuracy. You should have an accuracy greater than 50%. If you don't, keep tweaking the model architecture and parameters."
   ]
  },
  {
   "cell_type": "code",
   "execution_count": 13,
   "metadata": {
    "collapsed": false
   },
   "outputs": [
    {
     "name": "stdout",
     "output_type": "stream",
     "text": [
      "Testing Accuracy: 0.16904296875\n",
      "\n"
     ]
    },
    {
     "data": {
      "image/png": "[encoded data removed]",
      "text/plain": [
       "<matplotlib.figure.Figure at 0x10de1f7f0>"
      ]
     },
     "metadata": {
      "image/png": {
       "height": 319,
       "width": 355
      }
     },
     "output_type": "display_data"
    }
   ],
   "source": [
    "\"\"\"\n",
    "DON'T MODIFY ANYTHING IN THIS CELL\n",
    "\"\"\"\n",
    "%matplotlib inline\n",
    "%config InlineBackend.figure_format = 'retina'\n",
    "\n",
    "import tensorflow as tf\n",
    "import pickle\n",
    "import helper\n",
    "import random\n",
    "\n",
    "# Set batch size if not already set\n",
    "try:\n",
    "    if batch_size:\n",
    "        pass\n",
    "except NameError:\n",
    "    batch_size = 64\n",
    "\n",
    "save_model_path = './image_classification'\n",
    "n_samples = 4\n",
    "top_n_predictions = 3\n",
    "\n",
    "def test_model():\n",
    "    \"\"\"\n",
    "    Test the saved model against the test dataset\n",
    "    \"\"\"\n",
    "\n",
    "    test_features, test_labels = pickle.load(open('preprocess_training.p', mode='rb'))\n",
    "    loaded_graph = tf.Graph()\n",
    "\n",
    "    with tf.Session(graph=loaded_graph) as sess:\n",
    "        # Load model\n",
    "        loader = tf.train.import_meta_graph(save_model_path + '.meta')\n",
    "        loader.restore(sess, save_model_path)\n",
    "\n",
    "        # Get Tensors from loaded model\n",
    "        loaded_x = loaded_graph.get_tensor_by_name('x:0')\n",
    "        loaded_y = loaded_graph.get_tensor_by_name('y:0')\n",
    "        loaded_keep_prob = loaded_graph.get_tensor_by_name('keep_prob:0')\n",
    "        loaded_logits = loaded_graph.get_tensor_by_name('logits:0')\n",
    "        loaded_acc = loaded_graph.get_tensor_by_name('accuracy:0')\n",
    "        \n",
    "        # Get accuracy in batches for memory limitations\n",
    "        test_batch_acc_total = 0\n",
    "        test_batch_count = 0\n",
    "        \n",
    "        for train_feature_batch, train_label_batch in helper.batch_features_labels(test_features, test_labels, batch_size):\n",
    "            test_batch_acc_total += sess.run(\n",
    "                loaded_acc,\n",
    "                feed_dict={loaded_x: train_feature_batch, loaded_y: train_label_batch, loaded_keep_prob: 1.0})\n",
    "            test_batch_count += 1\n",
    "\n",
    "        print('Testing Accuracy: {}\\n'.format(test_batch_acc_total/test_batch_count))\n",
    "\n",
    "        # Print Random Samples\n",
    "        random_test_features, random_test_labels = tuple(zip(*random.sample(list(zip(test_features, test_labels)), n_samples)))\n",
    "        random_test_predictions = sess.run(\n",
    "            tf.nn.top_k(tf.nn.softmax(loaded_logits), top_n_predictions),\n",
    "            feed_dict={loaded_x: random_test_features, loaded_y: random_test_labels, loaded_keep_prob: 1.0})\n",
    "        helper.display_image_predictions(random_test_features, random_test_labels, random_test_predictions)\n",
    "\n",
    "\n",
    "test_model()"
   ]
  },
  {
   "cell_type": "markdown",
   "metadata": {},
   "source": [
    "## Why 50-80% Accuracy?\n",
    "You might be wondering why you can't get an accuracy any higher. First things first, 50% isn't bad for a simple CNN.  Pure guessing would get you 10% accuracy. However, you might notice people are getting scores [well above 80%](http://rodrigob.github.io/are_we_there_yet/build/classification_datasets_results.html#43494641522d3130).  That's because we haven't taught you all there is to know about neural networks. We still need to cover a few more techniques.\n",
    "## Submitting This Project\n",
    "When submitting this project, make sure to run all the cells before saving the notebook.  Save the notebook file as \"dlnd_image_classification.ipynb\" and save it as a HTML file under \"File\" -> \"Download as\".  Include the \"helper.py\" and \"problem_unittests.py\" files in your submission."
   ]
  }
 ],
 "metadata": {
  "kernelspec": {
   "display_name": "Python 3",
   "language": "python",
   "name": "python3"
  },
  "language_info": {
   "codemirror_mode": {
    "name": "ipython",
    "version": 3
   },
   "file_extension": ".py",
   "mimetype": "text/x-python",
   "name": "python",
   "nbconvert_exporter": "python",
   "pygments_lexer": "ipython3",
   "version": "3.5.3"
  }
 },
 "nbformat": 4,
 "nbformat_minor": 0
}
